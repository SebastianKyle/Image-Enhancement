{
 "cells": [
  {
   "cell_type": "code",
   "execution_count": 1,
   "metadata": {},
   "outputs": [],
   "source": [
    "import cv2\n",
    "import numpy as np"
   ]
  },
  {
   "cell_type": "code",
   "execution_count": 2,
   "metadata": {},
   "outputs": [],
   "source": [
    "def add_gaussian_noise(frame, mean=0, std=25):\n",
    "    gauss = np.random.normal(mean, std, frame.shape).astype('uint8')\n",
    "    noisy_frame = cv2.add(frame, gauss)\n",
    "    return noisy_frame\n",
    "\n",
    "def add_noise_to_video(input_video_path, output_video_path, mean=0, std=25):\n",
    "    cap = cv2.VideoCapture(input_video_path)\n",
    "\n",
    "    if not cap.isOpened():\n",
    "        print(\"Error opening video stream or file\")\n",
    "        return \n",
    "    \n",
    "    fourcc = int(cap.get(cv2.CAP_PROP_FOURCC))\n",
    "    fps = cap.get(cv2.CAP_PROP_FPS)\n",
    "    frame_width = int(cap.get(cv2.CAP_PROP_FRAME_WIDTH))\n",
    "    frame_height = int(cap.get(cv2.CAP_PROP_FRAME_HEIGHT))\n",
    "\n",
    "    out = cv2.VideoWriter(output_video_path, fourcc, fps, (frame_width, frame_height))\n",
    "\n",
    "    while cap.isOpened():\n",
    "        ret, frame = cap.read()\n",
    "        if not ret:\n",
    "            break\n",
    "\n",
    "        noisy_frame = add_gaussian_noise(frame, mean, std)\n",
    "        out.write(noisy_frame)\n",
    "\n",
    "    cap.release()\n",
    "    out.release()"
   ]
  },
  {
   "cell_type": "code",
   "execution_count": 5,
   "metadata": {},
   "outputs": [],
   "source": [
    "input_video_path = 'D:/Self_Practicing/Computer Vision/Learning_OpenCV/ImageEnhancement/videos/original/SampleVideo_640x360_5mb.mp4'\n",
    "output_video_path = 'D:/Self_Practicing/Computer Vision/Learning_OpenCV/ImageEnhancement/videos/noisy/SampleVideo_640x360_5mb.mp4'\n",
    "\n",
    "add_noise_to_video(input_video_path, output_video_path, 0, 8)"
   ]
  }
 ],
 "metadata": {
  "kernelspec": {
   "display_name": "base",
   "language": "python",
   "name": "python3"
  },
  "language_info": {
   "codemirror_mode": {
    "name": "ipython",
    "version": 3
   },
   "file_extension": ".py",
   "mimetype": "text/x-python",
   "name": "python",
   "nbconvert_exporter": "python",
   "pygments_lexer": "ipython3",
   "version": "3.11.7"
  }
 },
 "nbformat": 4,
 "nbformat_minor": 2
}
